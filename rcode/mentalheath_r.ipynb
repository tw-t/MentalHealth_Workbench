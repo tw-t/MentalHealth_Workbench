{
 "cells": [
  {
   "cell_type": "markdown",
   "id": "f30bc59c-7ff9-46b3-83ef-30a90239ab87",
   "metadata": {},
   "source": [
    "# Mental Health Prediction Using Machine Learning\n",
    "\n",
    "The 2024 Kaggle Playground Series aims to provide engaging and practical datasets for machine learning enthusiasts to enhance their skills. This project focuses on Mental Health Prediction, using data from a mental health survey to analyze the factors that contribute to depression. The goal is to build a predictive model that determines whether an individual is experiencing depression based on various factors present in the dataset.\n",
    "\n",
    "The dataset contains missing values, requiring preprocessing techniques such as data imputation and visualization for better insights. Various data analysis techniques, including count plots, pie charts, and correlation maps, will be used to understand the key contributing factors to depression.\n",
    "\n",
    "## Project Objectives\n",
    "\n",
    "The main objectives of this project are:\n",
    "\n",
    "- Understand the Dataset – Perform an in-depth exploration of the provided training, testing, sample submission, and original data to gain insights into its structure and attributes.\n",
    "- Handle Missing Values – Identify and impute missing values to ensure data quality and improve model performance.\n",
    "- Data Visualization & Analysis – Generate multiple visualization plots (count plots, pie charts, heatmaps, etc.) to analyze key factors affecting mental health and depression.\n",
    "- Model Implementation – Utilize various models predict depression based on survey responses.\n",
    "- Enhance Model Performance – Implement grid serach to optimise hyper-parameters to refine predictions and improve the reliability of the model.\n",
    "- Evaluate Results – Measure the model’s accuracy and effectiveness in classifying individuals with or without depression based on survey responses and make final model selection.\n",
    "\n",
    "## Project Scope\n",
    "\n",
    "<b>In-Scope:</b>\n",
    "\n",
    "- Dataset Exploration – Understanding the data, missing values, and feature distributions.\n",
    "- Data Preprocessing – Cleaning the dataset, handling missing values, and preparing it for modeling.\n",
    "- Feature Engineering – Creating meaningful features from the dataset to enhance predictions.\n",
    "- Data Visualization – Using plots and statistical analysis to explore depression risk factors.\n",
    "- Model Selection & Implementation – Implementing different models for prediction.\n",
    "- Performance Improvement – Using Grid Search for better accuracy.\n",
    "- Prediction & Insights – Determining whether a person is at risk of depression based on analyzed factors.\n",
    "\n",
    "<b>Out-of-Scope:</b>\n",
    "\n",
    "- Medical Diagnosis – The project does not provide a medical diagnosis but rather a statistical analysis and prediction.\n",
    "- Real-time Monitoring – The model will not be deployed for real-time monitoring of mental health conditions.\n",
    "- Therapeutic Interventions – The project does not propose medical or psychological treatment solutions.\n",
    "\n",
    "## Data Source\n",
    "\n",
    "The dataset used in this project originates from the 2024 Kaggle Playground Series (Season 4, Episode 11) competition, titled \"<a href=\"https://www.kaggle.com/competitions/playground-series-s4e11/overview\">Exploring Mental Health Data</a>\". The data was derived from the <a href=\"https://www.kaggle.com/datasets/sumansharmadataworld/depression-surveydataset-for-analysis\">Depression Survey/Dataset</a> and has been augmented with synthetic data to increase its size.\n",
    "\n",
    "The dataset consists of 234,500 observations, with a 6:4 train-test split. It contains 20 features, each representing different attributes related to an individual's mental health and well-being. The target variable, \"Depression,\" is a binary flag (0 or 1) indicating whether an individual is experiencing depression.\n",
    "\n",
    "<b>Understanding the Features</b>\n",
    "\n",
    "<table border=\"1\">\n",
    "  <tr>\n",
    "    <th><b>Column Name</b></th>\n",
    "    <th><b>Description</b></th>\n",
    "  </tr>\n",
    "  <tr>\n",
    "    <td>ID</td>\n",
    "    <td>Unique identifier for each participant in the dataset</td>\n",
    "  </tr>\n",
    "  <tr>\n",
    "    <td>Name</td>\n",
    "    <td>Name of the participant</td>\n",
    "  </tr>\n",
    "  <tr>\n",
    "    <td>Gender</td>\n",
    "    <td>Gender of participant (listed as Male or Female)</td>\n",
    "  </tr>\n",
    "  <tr>\n",
    "    <td>Age</td>\n",
    "    <td>Age of the participant</td>\n",
    "  </tr>\n",
    "  <tr>\n",
    "    <td>City</td>\n",
    "    <td>The city that the participant resides</td>\n",
    "  </tr>\n",
    "  <tr>\n",
    "    <td>Working Professional or Student</td>\n",
    "    <td>Indicates whether the participant is a working professional or a student</td>\n",
    "  </tr>\n",
    "  <tr>\n",
    "    <td>Profession</td>\n",
    "    <td>Participant's profession or field of study</td>\n",
    "  </tr>\n",
    "  <tr>\n",
    "    <td>Academic Pressure</td>\n",
    "    <td>Level of pressure the participant's experiences in academics (on a scale of 1-5)</td>\n",
    "  </tr>\n",
    "  <tr>\n",
    "    <td>Work Pressure</td>\n",
    "    <td>Level of pressure the participant's experiences at their job (on a scale of 1-5)</td>\n",
    "  </tr>\n",
    "  <tr>\n",
    "    <td>CGPA</td>\n",
    "    <td>Cumulative Grade Point Average of the participant</td>\n",
    "  </tr>\n",
    "  <tr>\n",
    "    <td>Study Satisfaction</td>\n",
    "    <td>The participant's satisfaction with their studies (on a scale of 1-5)</td>\n",
    "  </tr>\n",
    "    </tr>\n",
    "    <tr>\n",
    "    <td>Job Satisfaction</td>\n",
    "    <td>The participant's satisfaction with their jobs (on a scale of 1-5)</td>\n",
    "  </tr>\n",
    "  <tr>\n",
    "    <td>Sleep Duration</td>\n",
    "    <td>Average duration of sleep per night</td>\n",
    "  </tr>\n",
    "  <tr>\n",
    "    <td>Dietary Habits</td>\n",
    "    <td>Dietary habits of the participant (listed mainly as healthy, moderate and unhealthy)</td>\n",
    "  </tr>\n",
    "  <tr>\n",
    "    <td>Degree</td>\n",
    "    <td>Level of education the participant is pursuing or has completed</td>\n",
    "  </tr>\n",
    "  <tr>\n",
    "    <td>Have you ever had suicidal thoughts?</td>\n",
    "    <td>Indicates whether the participant has ever had suicidal thoughts (listed as yes or no)</td>\n",
    "  </tr>\n",
    "  <tr>\n",
    "    <td>Work/Study Hours</td>\n",
    "    <td>Number of hours the participant spends working or studying per day on average</td>\n",
    "  </tr>\n",
    "  <tr>\n",
    "    <td>Financial Stress</td>\n",
    "    <td>Level of financial stress the participant experiences (on a scale of 1-5)</td>\n",
    "  </tr>\n",
    "  <tr>\n",
    "    <td>Family History of Mental Illness</td>\n",
    "    <td>Indicates whether the participant has a family history of mental illness (listed as yes or no)</td>\n",
    "  </tr>\n",
    "  <tr>\n",
    "    <td>Depression</td>\n",
    "    <td>The participant's depression status (listed as 0 or 1)</td>\n",
    "  </tr>\n",
    "</table>\n",
    "\n",
    "## Other Sources\n",
    "\n",
    "Inspirations taken from the following Kaggle Notebooks:\n",
    "- <a href=\"https://www.kaggle.com/code/annastasy/mental-health-eda-ensemble/notebook\">Mental Health EDA by Anna Balatska</a>\n",
    "- <a href=\"https://www.kaggle.com/code/marianadeem755/mental-health-key-insights-predictions-unveiled/notebook#CatBoost-Model-Implementation\">Mental Health: Key Insights & Predictions Unveiled by Maria Nadeem</a>\n",
    "- <a href=\"https://www.kaggle.com/code/negmgh/evaluating-mental-health-data\">Evaluating Mental Health Data by Negin Noghadasi, PH. D</a>"
   ]
  },
  {
   "cell_type": "markdown",
   "id": "d7c8ac1a-26aa-4242-9d20-f204bbb64b36",
   "metadata": {},
   "source": [
    "## Step 1. Environment Set-Up and Data Import"
   ]
  },
  {
   "cell_type": "code",
   "execution_count": 1,
   "id": "19f8a710-dc9a-4a84-abd2-bd6e7e42f714",
   "metadata": {
    "vscode": {
     "languageId": "r"
    }
   },
   "outputs": [
    {
     "name": "stderr",
     "output_type": "stream",
     "text": [
      "Loading required package: lattice\n",
      "\n",
      "randomForest 4.7-1.2\n",
      "\n",
      "Type rfNews() to see new features/changes/bug fixes.\n",
      "\n",
      "\n",
      "Attaching package: ‘randomForest’\n",
      "\n",
      "\n",
      "The following object is masked from ‘package:ggplot2’:\n",
      "\n",
      "    margin\n",
      "\n",
      "\n",
      "corrplot 0.95 loaded\n",
      "\n",
      "\n",
      "Attaching package: ‘dplyr’\n",
      "\n",
      "\n",
      "The following object is masked from ‘package:randomForest’:\n",
      "\n",
      "    combine\n",
      "\n",
      "\n",
      "The following object is masked from ‘package:xgboost’:\n",
      "\n",
      "    slice\n",
      "\n",
      "\n",
      "The following objects are masked from ‘package:data.table’:\n",
      "\n",
      "    between, first, last\n",
      "\n",
      "\n",
      "The following objects are masked from ‘package:stats’:\n",
      "\n",
      "    filter, lag\n",
      "\n",
      "\n",
      "The following objects are masked from ‘package:base’:\n",
      "\n",
      "    intersect, setdiff, setequal, union\n",
      "\n",
      "\n",
      "Loading required package: Rcpp\n",
      "\n",
      "\n",
      "Attaching package: ‘RSNNS’\n",
      "\n",
      "\n",
      "The following objects are masked from ‘package:caret’:\n",
      "\n",
      "    confusionMatrix, train\n",
      "\n",
      "\n",
      "\n",
      "Attaching package: ‘MLmetrics’\n",
      "\n",
      "\n",
      "The following objects are masked from ‘package:caret’:\n",
      "\n",
      "    MAE, RMSE\n",
      "\n",
      "\n",
      "The following object is masked from ‘package:base’:\n",
      "\n",
      "    Recall\n",
      "\n",
      "\n"
     ]
    }
   ],
   "source": [
    "# Install necessary packages if not already installed\n",
    "# install.packages(c(\"data.table\", \"ggplot2\", \"naniar\", \"corrplot\", \"fastDummies\", \"caret\", \"xgboost\", \"randomForest\", \"nnet\", \"RSNNS\", \"MLmetrics\"))\n",
    "\n",
    "# Load required packages\n",
    "library(data.table)\n",
    "library(ggplot2)\n",
    "library(caret)\n",
    "library(xgboost)\n",
    "library(randomForest)\n",
    "library(nnet)\n",
    "library(naniar)\n",
    "library(corrplot)\n",
    "library(dplyr)\n",
    "library(fastDummies)\n",
    "library(RSNNS)\n",
    "library(MLmetrics)"
   ]
  },
  {
   "cell_type": "code",
   "execution_count": 2,
   "id": "021610e2-b2b6-42ae-b0fb-13c8d277f0e4",
   "metadata": {
    "vscode": {
     "languageId": "r"
    }
   },
   "outputs": [],
   "source": [
    "# Load data\n",
    "train <- fread(\"/workspaces/myfolder/MentalHealth_Workbench/data/train.csv\")"
   ]
  },
  {
   "cell_type": "markdown",
   "id": "4afeeb30-4513-4d81-8416-6761159361df",
   "metadata": {},
   "source": [
    "## Step 2. Exploratory Data Analysis\n",
    "\n",
    "Exploratory data analysis (EDA) is crucial in data science projects because it helps us understand the structure and characteristics of the data we're working with. By exploring variables, identifying patterns, detecting anomalies, and visualizing relationships, EDA enables us to make informed decisions about data preprocessing, feature engineering, and model selection. It also plays a key role in uncovering insights and formulating hypotheses, laying the groundwork for more accurate modeling and impactful conclusions."
   ]
  },
  {
   "cell_type": "code",
   "execution_count": 3,
   "id": "9beda50a-f669-44b2-a0e9-8bf8c3427e93",
   "metadata": {
    "vscode": {
     "languageId": "r"
    }
   },
   "outputs": [
    {
     "name": "stdout",
     "output_type": "stream",
     "text": [
      "There are 20 columns and 140700 rows in the train dataset.\n"
     ]
    }
   ],
   "source": [
    "# Get the dimensions of the dataset\n",
    "cat(\"There are\", ncol(train), \"columns and\", nrow(train), \"rows in the train dataset.\\n\")"
   ]
  },
  {
   "cell_type": "code",
   "execution_count": 4,
   "id": "52b8a16f-b5e7-44b4-a104-051b097ab80c",
   "metadata": {
    "vscode": {
     "languageId": "r"
    }
   },
   "outputs": [
    {
     "data": {
      "text/html": [
       "<table class=\"dataframe\">\n",
       "<caption>A data.table: 6 × 20</caption>\n",
       "<thead>\n",
       "\t<tr><th scope=col>id</th><th scope=col>Name</th><th scope=col>Gender</th><th scope=col>Age</th><th scope=col>City</th><th scope=col>Working Professional or Student</th><th scope=col>Profession</th><th scope=col>Academic Pressure</th><th scope=col>Work Pressure</th><th scope=col>CGPA</th><th scope=col>Study Satisfaction</th><th scope=col>Job Satisfaction</th><th scope=col>Sleep Duration</th><th scope=col>Dietary Habits</th><th scope=col>Degree</th><th scope=col>Have you ever had suicidal thoughts ?</th><th scope=col>Work/Study Hours</th><th scope=col>Financial Stress</th><th scope=col>Family History of Mental Illness</th><th scope=col>Depression</th></tr>\n",
       "\t<tr><th scope=col>&lt;int&gt;</th><th scope=col>&lt;chr&gt;</th><th scope=col>&lt;chr&gt;</th><th scope=col>&lt;dbl&gt;</th><th scope=col>&lt;chr&gt;</th><th scope=col>&lt;chr&gt;</th><th scope=col>&lt;chr&gt;</th><th scope=col>&lt;dbl&gt;</th><th scope=col>&lt;dbl&gt;</th><th scope=col>&lt;dbl&gt;</th><th scope=col>&lt;dbl&gt;</th><th scope=col>&lt;dbl&gt;</th><th scope=col>&lt;chr&gt;</th><th scope=col>&lt;chr&gt;</th><th scope=col>&lt;chr&gt;</th><th scope=col>&lt;chr&gt;</th><th scope=col>&lt;dbl&gt;</th><th scope=col>&lt;dbl&gt;</th><th scope=col>&lt;chr&gt;</th><th scope=col>&lt;int&gt;</th></tr>\n",
       "</thead>\n",
       "<tbody>\n",
       "\t<tr><td>0</td><td>Aaradhya</td><td>Female</td><td>49</td><td>Ludhiana     </td><td>Working Professional</td><td>Chef               </td><td>NA</td><td> 5</td><td>  NA</td><td>NA</td><td> 2</td><td>More than 8 hours</td><td>Healthy  </td><td>BHM    </td><td>No </td><td> 1</td><td>2</td><td>No </td><td>0</td></tr>\n",
       "\t<tr><td>1</td><td>Vivan   </td><td>Male  </td><td>26</td><td>Varanasi     </td><td>Working Professional</td><td>Teacher            </td><td>NA</td><td> 4</td><td>  NA</td><td>NA</td><td> 3</td><td>Less than 5 hours</td><td>Unhealthy</td><td>LLB    </td><td>Yes</td><td> 7</td><td>3</td><td>No </td><td>1</td></tr>\n",
       "\t<tr><td>2</td><td>Yuvraj  </td><td>Male  </td><td>33</td><td>Visakhapatnam</td><td>Student             </td><td>                   </td><td> 5</td><td>NA</td><td>8.97</td><td> 2</td><td>NA</td><td>5-6 hours        </td><td>Healthy  </td><td>B.Pharm</td><td>Yes</td><td> 3</td><td>1</td><td>No </td><td>1</td></tr>\n",
       "\t<tr><td>3</td><td>Yuvraj  </td><td>Male  </td><td>22</td><td>Mumbai       </td><td>Working Professional</td><td>Teacher            </td><td>NA</td><td> 5</td><td>  NA</td><td>NA</td><td> 1</td><td>Less than 5 hours</td><td>Moderate </td><td>BBA    </td><td>Yes</td><td>10</td><td>1</td><td>Yes</td><td>1</td></tr>\n",
       "\t<tr><td>4</td><td>Rhea    </td><td>Female</td><td>30</td><td>Kanpur       </td><td>Working Professional</td><td>Business Analyst   </td><td>NA</td><td> 1</td><td>  NA</td><td>NA</td><td> 1</td><td>5-6 hours        </td><td>Unhealthy</td><td>BBA    </td><td>Yes</td><td> 9</td><td>4</td><td>Yes</td><td>0</td></tr>\n",
       "\t<tr><td>5</td><td>Vani    </td><td>Female</td><td>59</td><td>Ahmedabad    </td><td>Working Professional</td><td>Finanancial Analyst</td><td>NA</td><td> 2</td><td>  NA</td><td>NA</td><td> 5</td><td>5-6 hours        </td><td>Healthy  </td><td>MCA    </td><td>No </td><td> 7</td><td>5</td><td>No </td><td>0</td></tr>\n",
       "</tbody>\n",
       "</table>\n"
      ],
      "text/latex": [
       "A data.table: 6 × 20\n",
       "\\begin{tabular}{llllllllllllllllllll}\n",
       " id & Name & Gender & Age & City & Working Professional or Student & Profession & Academic Pressure & Work Pressure & CGPA & Study Satisfaction & Job Satisfaction & Sleep Duration & Dietary Habits & Degree & Have you ever had suicidal thoughts ? & Work/Study Hours & Financial Stress & Family History of Mental Illness & Depression\\\\\n",
       " <int> & <chr> & <chr> & <dbl> & <chr> & <chr> & <chr> & <dbl> & <dbl> & <dbl> & <dbl> & <dbl> & <chr> & <chr> & <chr> & <chr> & <dbl> & <dbl> & <chr> & <int>\\\\\n",
       "\\hline\n",
       "\t 0 & Aaradhya & Female & 49 & Ludhiana      & Working Professional & Chef                & NA &  5 &   NA & NA &  2 & More than 8 hours & Healthy   & BHM     & No  &  1 & 2 & No  & 0\\\\\n",
       "\t 1 & Vivan    & Male   & 26 & Varanasi      & Working Professional & Teacher             & NA &  4 &   NA & NA &  3 & Less than 5 hours & Unhealthy & LLB     & Yes &  7 & 3 & No  & 1\\\\\n",
       "\t 2 & Yuvraj   & Male   & 33 & Visakhapatnam & Student              &                     &  5 & NA & 8.97 &  2 & NA & 5-6 hours         & Healthy   & B.Pharm & Yes &  3 & 1 & No  & 1\\\\\n",
       "\t 3 & Yuvraj   & Male   & 22 & Mumbai        & Working Professional & Teacher             & NA &  5 &   NA & NA &  1 & Less than 5 hours & Moderate  & BBA     & Yes & 10 & 1 & Yes & 1\\\\\n",
       "\t 4 & Rhea     & Female & 30 & Kanpur        & Working Professional & Business Analyst    & NA &  1 &   NA & NA &  1 & 5-6 hours         & Unhealthy & BBA     & Yes &  9 & 4 & Yes & 0\\\\\n",
       "\t 5 & Vani     & Female & 59 & Ahmedabad     & Working Professional & Finanancial Analyst & NA &  2 &   NA & NA &  5 & 5-6 hours         & Healthy   & MCA     & No  &  7 & 5 & No  & 0\\\\\n",
       "\\end{tabular}\n"
      ],
      "text/markdown": [
       "\n",
       "A data.table: 6 × 20\n",
       "\n",
       "| id &lt;int&gt; | Name &lt;chr&gt; | Gender &lt;chr&gt; | Age &lt;dbl&gt; | City &lt;chr&gt; | Working Professional or Student &lt;chr&gt; | Profession &lt;chr&gt; | Academic Pressure &lt;dbl&gt; | Work Pressure &lt;dbl&gt; | CGPA &lt;dbl&gt; | Study Satisfaction &lt;dbl&gt; | Job Satisfaction &lt;dbl&gt; | Sleep Duration &lt;chr&gt; | Dietary Habits &lt;chr&gt; | Degree &lt;chr&gt; | Have you ever had suicidal thoughts ? &lt;chr&gt; | Work/Study Hours &lt;dbl&gt; | Financial Stress &lt;dbl&gt; | Family History of Mental Illness &lt;chr&gt; | Depression &lt;int&gt; |\n",
       "|---|---|---|---|---|---|---|---|---|---|---|---|---|---|---|---|---|---|---|---|\n",
       "| 0 | Aaradhya | Female | 49 | Ludhiana      | Working Professional | Chef                | NA |  5 |   NA | NA |  2 | More than 8 hours | Healthy   | BHM     | No  |  1 | 2 | No  | 0 |\n",
       "| 1 | Vivan    | Male   | 26 | Varanasi      | Working Professional | Teacher             | NA |  4 |   NA | NA |  3 | Less than 5 hours | Unhealthy | LLB     | Yes |  7 | 3 | No  | 1 |\n",
       "| 2 | Yuvraj   | Male   | 33 | Visakhapatnam | Student              | <!----> |  5 | NA | 8.97 |  2 | NA | 5-6 hours         | Healthy   | B.Pharm | Yes |  3 | 1 | No  | 1 |\n",
       "| 3 | Yuvraj   | Male   | 22 | Mumbai        | Working Professional | Teacher             | NA |  5 |   NA | NA |  1 | Less than 5 hours | Moderate  | BBA     | Yes | 10 | 1 | Yes | 1 |\n",
       "| 4 | Rhea     | Female | 30 | Kanpur        | Working Professional | Business Analyst    | NA |  1 |   NA | NA |  1 | 5-6 hours         | Unhealthy | BBA     | Yes |  9 | 4 | Yes | 0 |\n",
       "| 5 | Vani     | Female | 59 | Ahmedabad     | Working Professional | Finanancial Analyst | NA |  2 |   NA | NA |  5 | 5-6 hours         | Healthy   | MCA     | No  |  7 | 5 | No  | 0 |\n",
       "\n"
      ],
      "text/plain": [
       "  id Name     Gender Age City          Working Professional or Student\n",
       "1 0  Aaradhya Female 49  Ludhiana      Working Professional           \n",
       "2 1  Vivan    Male   26  Varanasi      Working Professional           \n",
       "3 2  Yuvraj   Male   33  Visakhapatnam Student                        \n",
       "4 3  Yuvraj   Male   22  Mumbai        Working Professional           \n",
       "5 4  Rhea     Female 30  Kanpur        Working Professional           \n",
       "6 5  Vani     Female 59  Ahmedabad     Working Professional           \n",
       "  Profession          Academic Pressure Work Pressure CGPA Study Satisfaction\n",
       "1 Chef                NA                 5              NA NA                \n",
       "2 Teacher             NA                 4              NA NA                \n",
       "3                      5                NA            8.97  2                \n",
       "4 Teacher             NA                 5              NA NA                \n",
       "5 Business Analyst    NA                 1              NA NA                \n",
       "6 Finanancial Analyst NA                 2              NA NA                \n",
       "  Job Satisfaction Sleep Duration    Dietary Habits Degree \n",
       "1  2               More than 8 hours Healthy        BHM    \n",
       "2  3               Less than 5 hours Unhealthy      LLB    \n",
       "3 NA               5-6 hours         Healthy        B.Pharm\n",
       "4  1               Less than 5 hours Moderate       BBA    \n",
       "5  1               5-6 hours         Unhealthy      BBA    \n",
       "6  5               5-6 hours         Healthy        MCA    \n",
       "  Have you ever had suicidal thoughts ? Work/Study Hours Financial Stress\n",
       "1 No                                     1               2               \n",
       "2 Yes                                    7               3               \n",
       "3 Yes                                    3               1               \n",
       "4 Yes                                   10               1               \n",
       "5 Yes                                    9               4               \n",
       "6 No                                     7               5               \n",
       "  Family History of Mental Illness Depression\n",
       "1 No                               0         \n",
       "2 No                               1         \n",
       "3 No                               1         \n",
       "4 Yes                              1         \n",
       "5 Yes                              0         \n",
       "6 No                               0         "
      ]
     },
     "metadata": {},
     "output_type": "display_data"
    }
   ],
   "source": [
    "# Display the first 5 rows\n",
    "head(train)"
   ]
  },
  {
   "cell_type": "markdown",
   "id": "3490c04d-f093-4380-a60e-227c3c50953b",
   "metadata": {},
   "source": [
    "Note that there is a mix of numerical and string data types, and understand that the string features are categorical or boolean, hence should be treated with techniques such as encoding to ensure optimal model performance."
   ]
  },
  {
   "cell_type": "code",
   "execution_count": 5,
   "id": "99408957-2e7b-436d-a74d-e59a2cdc8c72",
   "metadata": {
    "vscode": {
     "languageId": "r"
    }
   },
   "outputs": [
    {
     "data": {
      "text/plain": [
       "       id             Name              Gender               Age       \n",
       " Min.   :     0   Length:140700      Length:140700      Min.   :18.00  \n",
       " 1st Qu.: 35175   Class :character   Class :character   1st Qu.:29.00  \n",
       " Median : 70350   Mode  :character   Mode  :character   Median :42.00  \n",
       " Mean   : 70350                                         Mean   :40.39  \n",
       " 3rd Qu.:105524                                         3rd Qu.:51.00  \n",
       " Max.   :140699                                         Max.   :60.00  \n",
       "                                                                       \n",
       "     City           Working Professional or Student  Profession       \n",
       " Length:140700      Length:140700                   Length:140700     \n",
       " Class :character   Class :character                Class :character  \n",
       " Mode  :character   Mode  :character                Mode  :character  \n",
       "                                                                      \n",
       "                                                                      \n",
       "                                                                      \n",
       "                                                                      \n",
       " Academic Pressure Work Pressure        CGPA        Study Satisfaction\n",
       " Min.   :1.00      Min.   :1.000   Min.   : 5.03    Min.   :1.00      \n",
       " 1st Qu.:2.00      1st Qu.:2.000   1st Qu.: 6.29    1st Qu.:2.00      \n",
       " Median :3.00      Median :3.000   Median : 7.77    Median :3.00      \n",
       " Mean   :3.14      Mean   :2.999   Mean   : 7.66    Mean   :2.94      \n",
       " 3rd Qu.:4.00      3rd Qu.:4.000   3rd Qu.: 8.92    3rd Qu.:4.00      \n",
       " Max.   :5.00      Max.   :5.000   Max.   :10.00    Max.   :5.00      \n",
       " NA's   :112803    NA's   :27918   NA's   :112802   NA's   :112803    \n",
       " Job Satisfaction Sleep Duration     Dietary Habits        Degree         \n",
       " Min.   :1.000    Length:140700      Length:140700      Length:140700     \n",
       " 1st Qu.:2.000    Class :character   Class :character   Class :character  \n",
       " Median :3.000    Mode  :character   Mode  :character   Mode  :character  \n",
       " Mean   :2.974                                                            \n",
       " 3rd Qu.:4.000                                                            \n",
       " Max.   :5.000                                                            \n",
       " NA's   :27910                                                            \n",
       " Have you ever had suicidal thoughts ? Work/Study Hours Financial Stress\n",
       " Length:140700                         Min.   : 0.000   Min.   :1.000   \n",
       " Class :character                      1st Qu.: 3.000   1st Qu.:2.000   \n",
       " Mode  :character                      Median : 6.000   Median :3.000   \n",
       "                                       Mean   : 6.253   Mean   :2.989   \n",
       "                                       3rd Qu.:10.000   3rd Qu.:4.000   \n",
       "                                       Max.   :12.000   Max.   :5.000   \n",
       "                                                        NA's   :4       \n",
       " Family History of Mental Illness   Depression    \n",
       " Length:140700                    Min.   :0.0000  \n",
       " Class :character                 1st Qu.:0.0000  \n",
       " Mode  :character                 Median :0.0000  \n",
       "                                  Mean   :0.1817  \n",
       "                                  3rd Qu.:0.0000  \n",
       "                                  Max.   :1.0000  \n",
       "                                                  "
      ]
     },
     "metadata": {},
     "output_type": "display_data"
    }
   ],
   "source": [
    "# Summary statistics for numeric columns\n",
    "summary(train)"
   ]
  },
  {
   "cell_type": "markdown",
   "id": "887a1bc4-1769-4b15-a4c4-a16e547c26f3",
   "metadata": {},
   "source": [
    "Range of each numeric variable is correct and we see no outliers."
   ]
  },
  {
   "cell_type": "code",
   "execution_count": 6,
   "id": "c517cc6e-7923-4b06-9ce7-4eb8a351f952",
   "metadata": {
    "vscode": {
     "languageId": "r"
    }
   },
   "outputs": [
    {
     "name": "stdout",
     "output_type": "stream",
     "text": [
      "                             variable missing\n",
      "Academic Pressure   Academic Pressure  112803\n",
      "Work Pressure           Work Pressure   27918\n",
      "CGPA                             CGPA  112802\n",
      "Study Satisfaction Study Satisfaction  112803\n",
      "Job Satisfaction     Job Satisfaction   27910\n",
      "Financial Stress     Financial Stress       4\n"
     ]
    },
    {
     "data": {
      "image/png": "[encoded data removed]",
      "text/plain": [
       "plot without title"
      ]
     },
     "metadata": {
      "image/png": {
       "height": 420,
       "width": 420
      }
     },
     "output_type": "display_data"
    }
   ],
   "source": [
    "# Missing Value Check\n",
    "missing_df <- data.frame(\n",
    "  variable = names(train),\n",
    "  missing = colSums(is.na(train))\n",
    ")\n",
    "\n",
    "print(missing_df[missing_df$missing > 0, ])\n",
    "\n",
    "ggplot(missing_df, aes(x = reorder(variable, missing), y = missing)) +\n",
    "  geom_bar(stat = \"identity\", fill = \"tomato\") +\n",
    "  coord_flip() +\n",
    "  labs(title = \"Missing Values per Variable\", x = \"Variable\", y = \"Missing Count\") +\n",
    "  theme_minimal()"
   ]
  },
  {
   "cell_type": "markdown",
   "id": "0f934a34-da29-460f-9f26-269238105604",
   "metadata": {},
   "source": [
    "We see that majority of missing values revolves around variables describing work or study satisfaction and pressure. We also see that the number of missing values in the job satisfaction is almost equal to the missing work pressure counts, and same for study satisfaction and academic pressure. The number of missing CGPA"
   ]
  },
  {
   "cell_type": "code",
   "execution_count": 7,
   "id": "587cc233-732e-426e-ac74-c0a9b6ba9354",
   "metadata": {
    "vscode": {
     "languageId": "r"
    }
   },
   "outputs": [
    {
     "data": {
      "image/png": "[encoded data removed]",
      "text/plain": [
       "plot without title"
      ]
     },
     "metadata": {
      "image/png": {
       "height": 420,
       "width": 420
      }
     },
     "output_type": "display_data"
    }
   ],
   "source": [
    "# Distribution of Depression\n",
    "ggplot(train, aes(x = Depression)) +\n",
    "  geom_bar(fill = \"steelblue\") +\n",
    "  labs(title = \"Distribution of Depression\", x = \"Depression\", y = \"Count\") +\n",
    "  scale_x_discrete(labels = c(\"0\" = \"No\", \"1\" = \"Yes\")) +\n",
    "  theme_minimal()"
   ]
  },
  {
   "cell_type": "markdown",
   "id": "f75de4b6-1438-4f4f-8469-28ea8d5caa75",
   "metadata": {},
   "source": [
    "Note that this is an imbalanced dataset with about 20% of participants responsing that that they are depressed. This will have implications during modelling as well as the evaluation process."
   ]
  },
  {
   "cell_type": "code",
   "execution_count": 8,
   "id": "59d44f7e-45ed-41ac-ac60-dcc4f1d4fb31",
   "metadata": {
    "vscode": {
     "languageId": "r"
    }
   },
   "outputs": [
    {
     "name": "stdout",
     "output_type": "stream",
     "text": [
      "                      id   Age Academic Pressure Work Pressure  CGPA\n",
      "id                  1.00  0.00              0.01          0.00 -0.01\n",
      "Age                 0.00  1.00             -0.08         -0.10  0.01\n",
      "Academic Pressure   0.01 -0.08              1.00            NA -0.03\n",
      "Work Pressure       0.00 -0.10                NA          1.00    NA\n",
      "CGPA               -0.01  0.01             -0.03            NA  1.00\n",
      "Study Satisfaction  0.01  0.01             -0.11            NA -0.05\n",
      "Job Satisfaction    0.00  0.03             -1.00         -0.04  1.00\n",
      "Work/Study Hours    0.00 -0.12              0.10          0.00  0.00\n",
      "Financial Stress    0.00 -0.08              0.15          0.02  0.01\n",
      "Depression          0.00 -0.56              0.48          0.22  0.02\n",
      "                   Study Satisfaction Job Satisfaction Work/Study Hours\n",
      "id                               0.01             0.00             0.00\n",
      "Age                              0.01             0.03            -0.12\n",
      "Academic Pressure               -0.11            -1.00             0.10\n",
      "Work Pressure                      NA            -0.04             0.00\n",
      "CGPA                            -0.05             1.00             0.00\n",
      "Study Satisfaction               1.00            -1.00            -0.04\n",
      "Job Satisfaction                -1.00             1.00            -0.03\n",
      "Work/Study Hours                -0.04            -0.03             1.00\n",
      "Financial Stress                -0.07            -0.03             0.04\n",
      "Depression                      -0.17            -0.17             0.19\n",
      "                   Financial Stress Depression\n",
      "id                             0.00       0.00\n",
      "Age                           -0.08      -0.56\n",
      "Academic Pressure              0.15       0.48\n",
      "Work Pressure                  0.02       0.22\n",
      "CGPA                           0.01       0.02\n",
      "Study Satisfaction            -0.07      -0.17\n",
      "Job Satisfaction              -0.03      -0.17\n",
      "Work/Study Hours               0.04       0.19\n",
      "Financial Stress               1.00       0.23\n",
      "Depression                     0.23       1.00\n"
     ]
    }
   ],
   "source": [
    "# Calculate correlation matrix\n",
    "\n",
    "# Select numeric columns\n",
    "numeric_vars <- train[, sapply(train, is.numeric), with = FALSE]\n",
    "\n",
    "# Compute correlation matrix with pairwise deletion\n",
    "cor_matrix <- cor(numeric_vars, use = \"pairwise.complete.obs\")\n",
    "\n",
    "# Print rounded matrix\n",
    "print(round(cor_matrix, 2))"
   ]
  },
  {
   "cell_type": "code",
   "execution_count": 9,
   "id": "6e41575e-de60-4827-a8db-c22c1443cd45",
   "metadata": {
    "vscode": {
     "languageId": "r"
    }
   },
   "outputs": [
    {
     "data": {
      "image/png": "[encoded data removed]",
      "text/plain": [
       "Plot with title “”"
      ]
     },
     "metadata": {
      "image/png": {
       "height": 420,
       "width": 420
      }
     },
     "output_type": "display_data"
    }
   ],
   "source": [
    "# Heatmap of correlations\n",
    "corrplot(cor_matrix, method = \"color\", type = \"upper\",\n",
    "         tl.col = \"black\", tl.srt = 45, addCoef.col = \"black\", number.cex = 0.7)"
   ]
  },
  {
   "cell_type": "markdown",
   "id": "54c03673-89ed-471c-8e12-f377edbf42f5",
   "metadata": {},
   "source": [
    "From the heat map, we are able to learn the following:\n",
    "- Yonger participants are more likely to be depressed.\n",
    "- Academic pressure contributes more significantly than work pressure to the depression flag.\n",
    "- CGPA could be disregarded as it is not correlated to anything.\n",
    "- Though you are less likely to be depressed if you report a higher level of study or job satisfaction, the relationship is not as significant as pressure from your role.\n",
    "- Longer work or study hours and higher finanacial stress both correlate positively to participants reporting feeling depressed.\n",
    "- There might be an interaction between academic pressure and financial stress."
   ]
  },
  {
   "cell_type": "markdown",
   "id": "947d134a-6557-468c-8cc0-4a0b5c1b8ce9",
   "metadata": {},
   "source": [
    "## Step 3. Data Transformation/Wrangling\n",
    "\n",
    "Data wrangling is essential in the model creation cycle as it ensures data quality, prepares data for modeling techniques, uncovers insights, and supports reproducibility. It forms the foundation upon which accurate, reliable, and actionable models can be derived from data in the field of data science. These steps are done based on what our exploratory data analysis (EDA) uncovered. In this case, we will be imputing our missing variables, encoding our categorical variables, and splitting our dataset for testing and training."
   ]
  },
  {
   "cell_type": "code",
   "execution_count": 10,
   "id": "90c5bb0d-7ede-457f-947a-3c88ba4c392d",
   "metadata": {
    "vscode": {
     "languageId": "r"
    }
   },
   "outputs": [],
   "source": [
    "# create copy of train df\n",
    "train_clean <- train"
   ]
  },
  {
   "cell_type": "markdown",
   "id": "cbd85429-f0d9-452a-93c6-5a70ab7b3b02",
   "metadata": {},
   "source": [
    "### Missing Value Treatment"
   ]
  },
  {
   "cell_type": "code",
   "execution_count": 11,
   "id": "c5891ea1-d2e8-4bf1-9f99-169a6c2bb684",
   "metadata": {
    "vscode": {
     "languageId": "r"
    }
   },
   "outputs": [],
   "source": [
    "# Fill missing values in \"Academic Pressure\" using \"Work Pressure\"\n",
    "train_clean$`Work/Study Pressure` <- ifelse(\n",
    "  is.na(train_clean$`Academic Pressure`),\n",
    "  train_clean$`Work Pressure`,\n",
    "  train_clean$`Academic Pressure`\n",
    ")\n",
    "\n",
    "# Fill missing values in \"Study Satisfaction\" using \"Job Satisfaction\"\n",
    "train_clean$`Work/Study Satisfaction` <- ifelse(\n",
    "  is.na(train_clean$`Study Satisfaction`),\n",
    "  train_clean$`Job Satisfaction`,\n",
    "  train_clean$`Study Satisfaction`\n",
    ")"
   ]
  },
  {
   "cell_type": "markdown",
   "id": "c7ef3970-21ea-4010-95b0-e80d3b27dbc7",
   "metadata": {},
   "source": [
    "### Feature Engineering"
   ]
  },
  {
   "cell_type": "code",
   "execution_count": 12,
   "id": "8e7732e3-2e00-4427-9279-79871042ed43",
   "metadata": {
    "vscode": {
     "languageId": "r"
    }
   },
   "outputs": [
    {
     "data": {
      "text/html": [
       "<style>\n",
       ".list-inline {list-style: none; margin:0; padding: 0}\n",
       ".list-inline>li {display: inline-block}\n",
       ".list-inline>li:not(:last-child)::after {content: \"\\00b7\"; padding: 0 .5ex}\n",
       "</style>\n",
       "<ol class=list-inline><li>'More than 8 hours'</li><li>'Less than 5 hours'</li><li>'5-6 hours'</li><li>'7-8 hours'</li><li>'Sleep_Duration'</li><li>'1-2 hours'</li><li>'6-8 hours'</li><li>'4-6 hours'</li><li>'6-7 hours'</li><li>'10-11 hours'</li><li>'8-9 hours'</li><li>'40-45 hours'</li><li>'9-11 hours'</li><li>'2-3 hours'</li><li>'3-4 hours'</li><li>'Moderate'</li><li>'55-66 hours'</li><li>'4-5 hours'</li><li>'9-6 hours'</li><li>'1-3 hours'</li><li>'Indore'</li><li>'45'</li><li>'1-6 hours'</li><li>'35-36 hours'</li><li>'8 hours'</li><li>'No'</li><li>'10-6 hours'</li><li>'than 5 hours'</li><li>'49 hours'</li><li>'Unhealthy'</li><li>'Work_Study_Hours'</li><li>'3-6 hours'</li><li>'45-48 hours'</li><li>'9-5'</li><li>'Pune'</li><li>'9-5 hours'</li></ol>\n"
      ],
      "text/latex": [
       "\\begin{enumerate*}\n",
       "\\item 'More than 8 hours'\n",
       "\\item 'Less than 5 hours'\n",
       "\\item '5-6 hours'\n",
       "\\item '7-8 hours'\n",
       "\\item 'Sleep\\_Duration'\n",
       "\\item '1-2 hours'\n",
       "\\item '6-8 hours'\n",
       "\\item '4-6 hours'\n",
       "\\item '6-7 hours'\n",
       "\\item '10-11 hours'\n",
       "\\item '8-9 hours'\n",
       "\\item '40-45 hours'\n",
       "\\item '9-11 hours'\n",
       "\\item '2-3 hours'\n",
       "\\item '3-4 hours'\n",
       "\\item 'Moderate'\n",
       "\\item '55-66 hours'\n",
       "\\item '4-5 hours'\n",
       "\\item '9-6 hours'\n",
       "\\item '1-3 hours'\n",
       "\\item 'Indore'\n",
       "\\item '45'\n",
       "\\item '1-6 hours'\n",
       "\\item '35-36 hours'\n",
       "\\item '8 hours'\n",
       "\\item 'No'\n",
       "\\item '10-6 hours'\n",
       "\\item 'than 5 hours'\n",
       "\\item '49 hours'\n",
       "\\item 'Unhealthy'\n",
       "\\item 'Work\\_Study\\_Hours'\n",
       "\\item '3-6 hours'\n",
       "\\item '45-48 hours'\n",
       "\\item '9-5'\n",
       "\\item 'Pune'\n",
       "\\item '9-5 hours'\n",
       "\\end{enumerate*}\n"
      ],
      "text/markdown": [
       "1. 'More than 8 hours'\n",
       "2. 'Less than 5 hours'\n",
       "3. '5-6 hours'\n",
       "4. '7-8 hours'\n",
       "5. 'Sleep_Duration'\n",
       "6. '1-2 hours'\n",
       "7. '6-8 hours'\n",
       "8. '4-6 hours'\n",
       "9. '6-7 hours'\n",
       "10. '10-11 hours'\n",
       "11. '8-9 hours'\n",
       "12. '40-45 hours'\n",
       "13. '9-11 hours'\n",
       "14. '2-3 hours'\n",
       "15. '3-4 hours'\n",
       "16. 'Moderate'\n",
       "17. '55-66 hours'\n",
       "18. '4-5 hours'\n",
       "19. '9-6 hours'\n",
       "20. '1-3 hours'\n",
       "21. 'Indore'\n",
       "22. '45'\n",
       "23. '1-6 hours'\n",
       "24. '35-36 hours'\n",
       "25. '8 hours'\n",
       "26. 'No'\n",
       "27. '10-6 hours'\n",
       "28. 'than 5 hours'\n",
       "29. '49 hours'\n",
       "30. 'Unhealthy'\n",
       "31. 'Work_Study_Hours'\n",
       "32. '3-6 hours'\n",
       "33. '45-48 hours'\n",
       "34. '9-5'\n",
       "35. 'Pune'\n",
       "36. '9-5 hours'\n",
       "\n",
       "\n"
      ],
      "text/plain": [
       " [1] \"More than 8 hours\" \"Less than 5 hours\" \"5-6 hours\"        \n",
       " [4] \"7-8 hours\"         \"Sleep_Duration\"    \"1-2 hours\"        \n",
       " [7] \"6-8 hours\"         \"4-6 hours\"         \"6-7 hours\"        \n",
       "[10] \"10-11 hours\"       \"8-9 hours\"         \"40-45 hours\"      \n",
       "[13] \"9-11 hours\"        \"2-3 hours\"         \"3-4 hours\"        \n",
       "[16] \"Moderate\"          \"55-66 hours\"       \"4-5 hours\"        \n",
       "[19] \"9-6 hours\"         \"1-3 hours\"         \"Indore\"           \n",
       "[22] \"45\"                \"1-6 hours\"         \"35-36 hours\"      \n",
       "[25] \"8 hours\"           \"No\"                \"10-6 hours\"       \n",
       "[28] \"than 5 hours\"      \"49 hours\"          \"Unhealthy\"        \n",
       "[31] \"Work_Study_Hours\"  \"3-6 hours\"         \"45-48 hours\"      \n",
       "[34] \"9-5\"               \"Pune\"              \"9-5 hours\"        "
      ]
     },
     "metadata": {},
     "output_type": "display_data"
    }
   ],
   "source": [
    "unique(train_clean$`Sleep Duration`)"
   ]
  },
  {
   "cell_type": "code",
   "execution_count": 13,
   "id": "1be9c4de-58ed-4c04-ba95-984ef8720af3",
   "metadata": {
    "vscode": {
     "languageId": "r"
    }
   },
   "outputs": [
    {
     "data": {
      "text/html": [
       "<style>\n",
       ".list-inline {list-style: none; margin:0; padding: 0}\n",
       ".list-inline>li {display: inline-block}\n",
       ".list-inline>li:not(:last-child)::after {content: \"\\00b7\"; padding: 0 .5ex}\n",
       "</style>\n",
       "<ol class=list-inline><li>9</li><li>4.5</li><li>5.5</li><li>7.5</li><li>1.5</li><li>7</li><li>5</li><li>6.5</li><li>10.5</li><li>8.5</li><li>6</li><li>10</li><li>2.5</li><li>3.5</li><li>8</li></ol>\n"
      ],
      "text/latex": [
       "\\begin{enumerate*}\n",
       "\\item 9\n",
       "\\item 4.5\n",
       "\\item 5.5\n",
       "\\item 7.5\n",
       "\\item 1.5\n",
       "\\item 7\n",
       "\\item 5\n",
       "\\item 6.5\n",
       "\\item 10.5\n",
       "\\item 8.5\n",
       "\\item 6\n",
       "\\item 10\n",
       "\\item 2.5\n",
       "\\item 3.5\n",
       "\\item 8\n",
       "\\end{enumerate*}\n"
      ],
      "text/markdown": [
       "1. 9\n",
       "2. 4.5\n",
       "3. 5.5\n",
       "4. 7.5\n",
       "5. 1.5\n",
       "6. 7\n",
       "7. 5\n",
       "8. 6.5\n",
       "9. 10.5\n",
       "10. 8.5\n",
       "11. 6\n",
       "12. 10\n",
       "13. 2.5\n",
       "14. 3.5\n",
       "15. 8\n",
       "\n",
       "\n"
      ],
      "text/plain": [
       " [1]  9.0  4.5  5.5  7.5  1.5  7.0  5.0  6.5 10.5  8.5  6.0 10.0  2.5  3.5  8.0"
      ]
     },
     "metadata": {},
     "output_type": "display_data"
    }
   ],
   "source": [
    "# Define the mapping as a named vector\n",
    "sleep_duration_map <- c(\n",
    "  \"Less than 5 hours\" = 4.5,\n",
    "  \"than 5 hours\" = 4.5,  # Possible typo\n",
    "  \"1-2 hours\" = 1.5,\n",
    "  \"2-3 hours\" = 2.5,\n",
    "  \"3-4 hours\" = 3.5,\n",
    "  \"4-5 hours\" = 4.5,\n",
    "  \"4-6 hours\" = 5.0,\n",
    "  \"5-6 hours\" = 5.5,\n",
    "  \"6-7 hours\" = 6.5,\n",
    "  \"6-8 hours\" = 7.0,\n",
    "  \"7-8 hours\" = 7.5,\n",
    "  \"8-9 hours\" = 8.5,\n",
    "  \"9-11 hours\" = 10.0,\n",
    "  \"10-11 hours\" = 10.5,\n",
    "  \"8 hours\" = 8.0,\n",
    "  \"9-6 hours\" = 7.5,\n",
    "  \"9-5\" = 7.5,\n",
    "  \"9-5 hours\" = 7.5,\n",
    "  \"10-6 hours\" = 8.0,\n",
    "  \"More than 8 hours\" = 9.0,\n",
    "  \"45\" = 6.5,\n",
    "  \"49 hours\" = 7,\n",
    "  \"35-36 hours\" = 5,\n",
    "  \"40-45 hours\" = 6,\n",
    "  \"45-48 hours\" = 6.5,\n",
    "  \"55-66 hours\" = 8.5,\n",
    "  \n",
    "  # Invalid values replaced with NA\n",
    "  \"Moderate\" = NA,\n",
    "  \"Unhealthy\" = NA,\n",
    "  \"Indore\" = NA,\n",
    "  \"Pune\" = NA,\n",
    "  \"No\" = NA,\n",
    "  \"Work_Study_Hours\" = NA,\n",
    "  \"Sleep_Duration\" = NA\n",
    ")\n",
    "\n",
    "# Apply mapping\n",
    "train_clean$`Sleep Hours` <- sleep_duration_map[as.character(train_clean$`Sleep Duration`)]\n",
    "\n",
    "# Impute missing values with the median\n",
    "train_clean$`Sleep Hours`[is.na(train_clean$`Sleep Hours`)] <- median(train_clean$`Sleep Hours`, na.rm = TRUE)\n",
    "\n",
    "# Display unique mapped values\n",
    "unique(train_clean$`Sleep Hours`)"
   ]
  },
  {
   "cell_type": "code",
   "execution_count": 14,
   "id": "3503acc7-de76-4106-b9a3-774d475efa94",
   "metadata": {
    "vscode": {
     "languageId": "r"
    }
   },
   "outputs": [
    {
     "data": {
      "text/html": [
       "<style>\n",
       ".list-inline {list-style: none; margin:0; padding: 0}\n",
       ".list-inline>li {display: inline-block}\n",
       ".list-inline>li:not(:last-child)::after {content: \"\\00b7\"; padding: 0 .5ex}\n",
       "</style>\n",
       "<ol class=list-inline><li>'Healthy'</li><li>'Unhealthy'</li><li>'Moderate'</li><li>'Yes'</li><li>'Pratham'</li><li>'BSc'</li><li>'Gender'</li><li>'3'</li><li>'More Healthy'</li><li>'Less than Healthy'</li><li>'Mihir'</li><li>'1.0'</li><li>'Hormonal'</li><li>'Electrician'</li><li>''</li><li>'No Healthy'</li><li>'Less Healthy'</li><li>'M.Tech'</li><li>'Vegas'</li><li>'No'</li><li>'Male'</li><li>'Indoor'</li><li>'Class 12'</li><li>'2'</li></ol>\n"
      ],
      "text/latex": [
       "\\begin{enumerate*}\n",
       "\\item 'Healthy'\n",
       "\\item 'Unhealthy'\n",
       "\\item 'Moderate'\n",
       "\\item 'Yes'\n",
       "\\item 'Pratham'\n",
       "\\item 'BSc'\n",
       "\\item 'Gender'\n",
       "\\item '3'\n",
       "\\item 'More Healthy'\n",
       "\\item 'Less than Healthy'\n",
       "\\item 'Mihir'\n",
       "\\item '1.0'\n",
       "\\item 'Hormonal'\n",
       "\\item 'Electrician'\n",
       "\\item ''\n",
       "\\item 'No Healthy'\n",
       "\\item 'Less Healthy'\n",
       "\\item 'M.Tech'\n",
       "\\item 'Vegas'\n",
       "\\item 'No'\n",
       "\\item 'Male'\n",
       "\\item 'Indoor'\n",
       "\\item 'Class 12'\n",
       "\\item '2'\n",
       "\\end{enumerate*}\n"
      ],
      "text/markdown": [
       "1. 'Healthy'\n",
       "2. 'Unhealthy'\n",
       "3. 'Moderate'\n",
       "4. 'Yes'\n",
       "5. 'Pratham'\n",
       "6. 'BSc'\n",
       "7. 'Gender'\n",
       "8. '3'\n",
       "9. 'More Healthy'\n",
       "10. 'Less than Healthy'\n",
       "11. 'Mihir'\n",
       "12. '1.0'\n",
       "13. 'Hormonal'\n",
       "14. 'Electrician'\n",
       "15. ''\n",
       "16. 'No Healthy'\n",
       "17. 'Less Healthy'\n",
       "18. 'M.Tech'\n",
       "19. 'Vegas'\n",
       "20. 'No'\n",
       "21. 'Male'\n",
       "22. 'Indoor'\n",
       "23. 'Class 12'\n",
       "24. '2'\n",
       "\n",
       "\n"
      ],
      "text/plain": [
       " [1] \"Healthy\"           \"Unhealthy\"         \"Moderate\"         \n",
       " [4] \"Yes\"               \"Pratham\"           \"BSc\"              \n",
       " [7] \"Gender\"            \"3\"                 \"More Healthy\"     \n",
       "[10] \"Less than Healthy\" \"Mihir\"             \"1.0\"              \n",
       "[13] \"Hormonal\"          \"Electrician\"       \"\"                 \n",
       "[16] \"No Healthy\"        \"Less Healthy\"      \"M.Tech\"           \n",
       "[19] \"Vegas\"             \"No\"                \"Male\"             \n",
       "[22] \"Indoor\"            \"Class 12\"          \"2\"                "
      ]
     },
     "metadata": {},
     "output_type": "display_data"
    }
   ],
   "source": [
    "unique(train_clean$`Dietary Habits`)"
   ]
  },
  {
   "cell_type": "code",
   "execution_count": 15,
   "id": "612abd31-9687-4dff-aaec-493acc31a70b",
   "metadata": {
    "vscode": {
     "languageId": "r"
    }
   },
   "outputs": [
    {
     "data": {
      "text/html": [
       "<style>\n",
       ".list-inline {list-style: none; margin:0; padding: 0}\n",
       ".list-inline>li {display: inline-block}\n",
       ".list-inline>li:not(:last-child)::after {content: \"\\00b7\"; padding: 0 .5ex}\n",
       "</style>\n",
       "<ol class=list-inline><li>'Healthy'</li><li>'Unhealthy'</li><li>'Moderate'</li><li>'Unknown'</li></ol>\n"
      ],
      "text/latex": [
       "\\begin{enumerate*}\n",
       "\\item 'Healthy'\n",
       "\\item 'Unhealthy'\n",
       "\\item 'Moderate'\n",
       "\\item 'Unknown'\n",
       "\\end{enumerate*}\n"
      ],
      "text/markdown": [
       "1. 'Healthy'\n",
       "2. 'Unhealthy'\n",
       "3. 'Moderate'\n",
       "4. 'Unknown'\n",
       "\n",
       "\n"
      ],
      "text/plain": [
       "[1] \"Healthy\"   \"Unhealthy\" \"Moderate\"  \"Unknown\"  "
      ]
     },
     "metadata": {},
     "output_type": "display_data"
    }
   ],
   "source": [
    "# Define the mapping as a named vector\n",
    "diet_mapping <- c(\n",
    "  \"Healthy\" = \"Healthy\",\n",
    "  \"More Healthy\" = \"Healthy\",\n",
    "  \"Unhealthy\" = \"Unhealthy\",\n",
    "  \"Less than Healthy\" = \"Unhealthy\",\n",
    "  \"No Healthy\" = \"Unhealthy\",\n",
    "  \"Less Healthy\" = \"Unhealthy\",\n",
    "  \"Moderate\" = \"Moderate\"\n",
    ")\n",
    "\n",
    "# Apply mapping\n",
    "train_clean$`Dietary Habits` <- diet_mapping[as.character(train_clean$`Dietary Habits`)]\n",
    "\n",
    "# Impute missing values with \"Unknown\"\n",
    "train_clean$`Dietary Habits`[is.na(train_clean$`Dietary Habits`)] <- \"Unknown\"\n",
    "\n",
    "# Display unique values\n",
    "unique(train_clean$`Dietary Habits`)"
   ]
  },
  {
   "cell_type": "code",
   "execution_count": 16,
   "id": "4df1285b-c239-45e3-bb09-9b6cc8578319",
   "metadata": {
    "vscode": {
     "languageId": "r"
    }
   },
   "outputs": [],
   "source": [
    "# Variable encoding\n",
    "\n",
    "# Define the categorical columns you want to encode\n",
    "categorical_vars <- c(\n",
    "  \"Gender\", \n",
    "  \"Dietary Habits\", \n",
    "  \"Working Professional or Student\", \n",
    "  \"Family History of Mental Illness\", \n",
    "  \"Have you ever had suicidal thoughts ?\"\n",
    ")\n",
    "\n",
    "# One-hot encode (dummy) the selected categorical columns\n",
    "train_clean <- fastDummies::dummy_cols(\n",
    "  train_clean,\n",
    "  select_columns = categorical_vars,\n",
    "  remove_selected_columns = TRUE  # drops original categorical columns\n",
    ")"
   ]
  },
  {
   "cell_type": "markdown",
   "id": "7ae34803-8d4a-4197-91ba-428ba5b91e94",
   "metadata": {},
   "source": [
    "### Feature Selection"
   ]
  },
  {
   "cell_type": "code",
   "execution_count": 17,
   "id": "00ffd9f3-f5d5-4b55-ab85-3763f7694322",
   "metadata": {
    "vscode": {
     "languageId": "r"
    }
   },
   "outputs": [],
   "source": [
    "train_clean <- train_clean %>%\n",
    "  select(-c(id, Name, City, Profession,\n",
    "            `Academic Pressure`, `Work Pressure`, `Study Satisfaction`, \n",
    "            `Job Satisfaction`, `Sleep Duration`, Degree,\n",
    "            Gender_Male, `Working Professional or Student_Working Professional`,\n",
    "            `Family History of Mental Illness_No`, `Have you ever had suicidal thoughts ?_No`\n",
    "            ))"
   ]
  },
  {
   "cell_type": "code",
   "execution_count": 18,
   "id": "369d7b18-8b1e-4483-b6f4-83d537325ee7",
   "metadata": {
    "vscode": {
     "languageId": "r"
    }
   },
   "outputs": [],
   "source": [
    "# drop variables with more than 30 missing values\n",
    "train_clean <- train_clean %>%\n",
    "  select_if(~sum(is.na(.)) <= 30)\n",
    "\n",
    "# from remaining observations, drop observations with missing values\n",
    "train_clean <- na.omit(train_clean)"
   ]
  },
  {
   "cell_type": "code",
   "execution_count": 19,
   "id": "b045946c-4e6d-40dd-8d10-52a0ab4beefc",
   "metadata": {
    "vscode": {
     "languageId": "r"
    }
   },
   "outputs": [
    {
     "name": "stdout",
     "output_type": "stream",
     "text": [
      "                                      Age \n",
      "                                        0 \n",
      "                         Work/Study Hours \n",
      "                                        0 \n",
      "                         Financial Stress \n",
      "                                        0 \n",
      "                               Depression \n",
      "                                        0 \n",
      "                      Work/Study Pressure \n",
      "                                        0 \n",
      "                  Work/Study Satisfaction \n",
      "                                        0 \n",
      "                              Sleep Hours \n",
      "                                        0 \n",
      "                            Gender_Female \n",
      "                                        0 \n",
      "                   Dietary Habits_Healthy \n",
      "                                        0 \n",
      "                  Dietary Habits_Moderate \n",
      "                                        0 \n",
      "                 Dietary Habits_Unhealthy \n",
      "                                        0 \n",
      "                   Dietary Habits_Unknown \n",
      "                                        0 \n",
      "  Working Professional or Student_Student \n",
      "                                        0 \n",
      "     Family History of Mental Illness_Yes \n",
      "                                        0 \n",
      "Have you ever had suicidal thoughts ?_Yes \n",
      "                                        0 \n"
     ]
    }
   ],
   "source": [
    "# confirming no more missing values\n",
    "missing <- colSums(is.na(train_clean))\n",
    "print(missing)"
   ]
  },
  {
   "cell_type": "code",
   "execution_count": 20,
   "id": "cfbe692f-2f62-482d-87b2-cbe522f10839",
   "metadata": {
    "vscode": {
     "languageId": "r"
    }
   },
   "outputs": [
    {
     "name": "stdout",
     "output_type": "stream",
     "text": [
      "Classes ‘data.table’ and 'data.frame':\t140667 obs. of  15 variables:\n",
      " $ Age                                      : num  49 26 33 22 30 59 47 38 24 42 ...\n",
      " $ Work/Study Hours                         : num  1 7 3 10 9 7 6 10 3 7 ...\n",
      " $ Financial Stress                         : num  2 3 1 1 4 5 2 3 2 2 ...\n",
      " $ Depression                               : int  0 1 1 1 0 0 0 0 0 0 ...\n",
      " $ Work/Study Pressure                      : num  5 4 5 5 1 2 5 3 2 4 ...\n",
      " $ Work/Study Satisfaction                  : num  2 3 2 1 1 5 2 4 5 1 ...\n",
      " $ Sleep Hours                              : num  9 4.5 5.5 4.5 5.5 5.5 7.5 7.5 5.5 5.5 ...\n",
      " $ Gender_Female                            : int  1 0 0 0 1 1 0 0 1 1 ...\n",
      " $ Dietary Habits_Healthy                   : int  1 0 1 0 0 1 0 0 0 1 ...\n",
      " $ Dietary Habits_Moderate                  : int  0 0 0 1 0 0 1 0 1 0 ...\n",
      " $ Dietary Habits_Unhealthy                 : int  0 1 0 0 1 0 0 1 0 0 ...\n",
      " $ Dietary Habits_Unknown                   : int  0 0 0 0 0 0 0 0 0 0 ...\n",
      " $ Working Professional or Student_Student  : int  0 0 1 0 0 0 0 0 1 0 ...\n",
      " $ Family History of Mental Illness_Yes     : int  0 0 0 1 1 0 0 1 1 1 ...\n",
      " $ Have you ever had suicidal thoughts ?_Yes: int  0 1 1 1 1 0 0 0 0 1 ...\n",
      " - attr(*, \".internal.selfref\")=<externalptr> \n"
     ]
    }
   ],
   "source": [
    "# checking variable types\n",
    "str(train_clean)"
   ]
  },
  {
   "cell_type": "markdown",
   "id": "5ae57423-a15e-4b67-bcf5-75948d32c76f",
   "metadata": {},
   "source": [
    "### Splitting Training and Test dataset"
   ]
  },
  {
   "cell_type": "code",
   "execution_count": 21,
   "id": "61182892-a4ea-4fed-9bf0-8b9c3158e3a2",
   "metadata": {
    "vscode": {
     "languageId": "r"
    }
   },
   "outputs": [],
   "source": [
    "# Split data\n",
    "set.seed(123)\n",
    "train_index <- createDataPartition(train_clean$Depression, p=0.8, list=FALSE)\n",
    "train_data <- train_clean[train_index]\n",
    "test_data <- train_clean[-train_index]\n",
    "\n",
    "x_train <- train_data[, !\"Depression\"]\n",
    "y_train <- train_data$Depression\n",
    "x_test <- test_data[, !\"Depression\"]\n",
    "y_test <- test_data$Depression"
   ]
  },
  {
   "cell_type": "markdown",
   "id": "5dfe3571-a34d-4e16-8734-15fa05057a46",
   "metadata": {},
   "source": [
    "## Step 4: Modelling\n",
    "\n",
    "Modeling in the data science process involves the application of machine learning algorithms to analyze data, make predictions, or uncover patterns. It is a pivotal phase where the insights gleaned from data are translated into actionable decisions and solutions.\n",
    "\n",
    "Machine learning models are employed to address various tasks, such as classification, regression, clustering, and recommendation systems, depending on the nature of the problem at hand. These models learn from historical data to generalize patterns and make predictions on new, unseen data."
   ]
  },
  {
   "cell_type": "code",
   "execution_count": 22,
   "id": "3a54fa99-dee4-497a-bca1-3f06d8602559",
   "metadata": {
    "vscode": {
     "languageId": "r"
    }
   },
   "outputs": [
    {
     "name": "stdout",
     "output_type": "stream",
     "text": [
      "\n",
      "Random Forest Performance:\n",
      "       predictions\n",
      "targets     1     2\n",
      "      1 22254  1084\n",
      "      2   753  4042\n",
      "\n",
      "Accuracy: 0.9347\n",
      "Precision: 0.8430\n",
      "Recall: 0.7885\n",
      "F1 Score: 0.8148\n"
     ]
    }
   ],
   "source": [
    "# ---------------------\n",
    "# RANDOM FOREST\n",
    "# ---------------------\n",
    "rf_model <- randomForest(x=x_train, y=as.factor(y_train), ntree=100)\n",
    "rf_pred <- predict(rf_model, x_test)\n",
    "cat(\"\\nRandom Forest Performance:\\n\")\n",
    "print(confusionMatrix(rf_pred, as.factor(y_test)))\n",
    "\n",
    "# Extract predicted and true labels\n",
    "predicted <- rf_pred\n",
    "actual <- as.factor(y_test)\n",
    "\n",
    "# Calculate additional metrics\n",
    "accuracy <- Accuracy(y_pred = predicted, y_true = actual)\n",
    "precision <- Precision(y_pred = predicted, y_true = actual, positive = levels(actual)[2])\n",
    "recall <- Recall(y_pred = predicted, y_true = actual, positive = levels(actual)[2])\n",
    "f1 <- F1_Score(y_pred = predicted, y_true = actual, positive = levels(actual)[2])\n",
    "\n",
    "# Print metrics\n",
    "cat(sprintf(\"\\nAccuracy: %.4f\", accuracy))\n",
    "cat(sprintf(\"\\nPrecision: %.4f\", precision))\n",
    "cat(sprintf(\"\\nRecall: %.4f\", recall))\n",
    "cat(sprintf(\"\\nF1 Score: %.4f\\n\", f1))"
   ]
  },
  {
   "cell_type": "code",
   "execution_count": 23,
   "id": "b1c86ea0-edf2-46b4-a471-3ff37039222a",
   "metadata": {
    "vscode": {
     "languageId": "r"
    }
   },
   "outputs": [
    {
     "name": "stdout",
     "output_type": "stream",
     "text": [
      "\n",
      "XGBoost Performance:\n",
      "       predictions\n",
      "targets     1     2\n",
      "      1 22188   988\n",
      "      2   819  4138\n",
      "\n",
      "Accuracy: 0.9358\n",
      "Precision: 0.8348\n",
      "Recall: 0.8073\n",
      "F1 Score: 0.8208\n"
     ]
    }
   ],
   "source": [
    "# ---------------------\n",
    "# XGBOOST\n",
    "# ---------------------\n",
    "xgb_train <- xgb.DMatrix(data=as.matrix(x_train), label=y_train)\n",
    "xgb_test <- xgb.DMatrix(data=as.matrix(x_test), label=y_test)\n",
    "\n",
    "xgb_model <- xgboost(data=xgb_train, nrounds=100, objective=\"binary:logistic\", verbose=0)\n",
    "xgb_pred <- predict(xgb_model, xgb_test)\n",
    "xgb_pred_class <- ifelse(xgb_pred > 0.5, 1, 0)\n",
    "cat(\"\\nXGBoost Performance:\\n\")\n",
    "print(confusionMatrix(as.factor(xgb_pred_class), as.factor(y_test)))\n",
    "\n",
    "# Extract predicted and true labels\n",
    "predicted <- xgb_pred_class\n",
    "actual <- as.factor(y_test)\n",
    "\n",
    "# Calculate additional metrics\n",
    "accuracy <- Accuracy(y_pred = predicted, y_true = actual)\n",
    "precision <- Precision(y_pred = predicted, y_true = actual, positive = levels(actual)[2])\n",
    "recall <- Recall(y_pred = predicted, y_true = actual, positive = levels(actual)[2])\n",
    "f1 <- F1_Score(y_pred = predicted, y_true = actual, positive = levels(actual)[2])\n",
    "\n",
    "# Print metrics\n",
    "cat(sprintf(\"\\nAccuracy: %.4f\", accuracy))\n",
    "cat(sprintf(\"\\nPrecision: %.4f\", precision))\n",
    "cat(sprintf(\"\\nRecall: %.4f\", recall))\n",
    "cat(sprintf(\"\\nF1 Score: %.4f\\n\", f1))"
   ]
  },
  {
   "cell_type": "code",
   "execution_count": 24,
   "id": "a1172e93-e9d0-4278-84d6-22b93e886b1c",
   "metadata": {
    "vscode": {
     "languageId": "r"
    }
   },
   "outputs": [
    {
     "name": "stdout",
     "output_type": "stream",
     "text": [
      "\n",
      "Neural Network Performance:\n",
      "       predictions\n",
      "targets     1     2\n",
      "      1 22220   989\n",
      "      2   787  4137\n",
      "\n",
      "Accuracy: 0.9369\n",
      "Precision: 0.8402\n",
      "Recall: 0.8071\n",
      "F1 Score: 0.8233\n"
     ]
    }
   ],
   "source": [
    "# ---------------------\n",
    "# MLP (Neural Network)\n",
    "# ---------------------\n",
    "mlp_model <- nnet(as.factor(Depression) ~ ., data=train_data, size=5, maxit=200, trace=FALSE)\n",
    "mlp_pred <- predict(mlp_model, test_data, type=\"class\")\n",
    "cat(\"\\nNeural Network Performance:\\n\")\n",
    "print(confusionMatrix(as.factor(mlp_pred), as.factor(y_test)))\n",
    "\n",
    "# Extract predicted and true labels\n",
    "predicted <- mlp_pred\n",
    "actual <- as.factor(y_test)\n",
    "\n",
    "# Calculate additional metrics\n",
    "accuracy <- Accuracy(y_pred = predicted, y_true = actual)\n",
    "precision <- Precision(y_pred = predicted, y_true = actual, positive = levels(actual)[2])\n",
    "recall <- Recall(y_pred = predicted, y_true = actual, positive = levels(actual)[2])\n",
    "f1 <- F1_Score(y_pred = predicted, y_true = actual, positive = levels(actual)[2])\n",
    "\n",
    "# Print metrics\n",
    "cat(sprintf(\"\\nAccuracy: %.4f\", accuracy))\n",
    "cat(sprintf(\"\\nPrecision: %.4f\", precision))\n",
    "cat(sprintf(\"\\nRecall: %.4f\", recall))\n",
    "cat(sprintf(\"\\nF1 Score: %.4f\\n\", f1))"
   ]
  },
  {
   "cell_type": "markdown",
   "id": "ac2fbf84-e925-4dbc-920c-79c8e702ee30",
   "metadata": {},
   "source": [
    "Three different models were considered for this project, they are:\n",
    "- Random Forest\n",
    "- Extreme Gradient Boosting (XGB)\n",
    "- Neural Network (MLP)\n",
    "\n",
    "Model evaluation and comparison are indispensable in the data science process as they validate the effectiveness and reliability of predictive models. By systematically evaluating models against relevant metrics such as accuracy, precision, recall, and F1-score, data scientists can assess which models perform best for specific tasks and datasets. This process not only ensures the chosen model meets desired performance criteria but also identifies potential weaknesses or biases that could impact its real-world application. Moreover, comparing different models allows data scientists to make informed decisions, selecting the most suitable model that balances accuracy, interpretability, and computational efficiency.\n",
    "\n",
    "As mentioned previuosly, the dataset is imbalanced, hence we are not evaluating the model solely on accuracy as this metric is unreliable when we have such a skewed dataset. Instead, we will be evaluating with a harmonic mean such as the F1-score which takes into account the precision and recall of the model. In this case, the Neural Network model is selected as the champion model."
   ]
  },
  {
   "cell_type": "markdown",
   "id": "47ce28fd-c58f-473c-b23b-919fd32459fb",
   "metadata": {},
   "source": [
    "## Next Steps & Recommendations\n",
    "\n",
    "This project explores the use of machine learning to predict mental health outcomes based on a diverse set of individual-level attributes, using SAS Viya Workbench with R runtime.\n",
    "\n",
    "The current champion model is the Multilayer Perceptron (MLP), which achieved the highest accuracy and F1-score among all tested models, highlighting its ability to model complex non-linear relationships in the data.\n",
    "\n",
    "### Hyperparameter Tuning\n",
    "Refine the neural network model by expanding the search grid for parameters such as hidden layer size and decay rate. You may also explore automated tuning methods like tuneLength or Bayesian optimization to efficiently identify optimal configurations.\n",
    "\n",
    "- Expand grid search for MLP (e.g., size = 5–30, decay = 0–0.5).\n",
    "- Use tuneLength or Bayesian Optimization (via caret or mlr3) for smarter tuning.\n",
    "\n",
    "### Model Comparison and Ensembling\n",
    "Complement the MLP with additional models like SVM or Naive Bayes, and assess their performance. Consider combining top-performing models through ensembling techniques such as stacking to improve overall predictive accuracy.\n",
    "\n",
    "### Feature Engineering\n",
    "Create new derived features or reduce dimensionality using techniques like PCA. This can help uncover deeper patterns in the data and enhance model performance.\n",
    "\n",
    "### Explainability and Insight\n",
    "Use model explainability tools (e.g., SHAP or LIME) to understand and communicate which features most influence predictions—critical for trust and transparency in public sector applications.\n",
    "\n",
    "### Deployment Readiness\n",
    "Plan for operationalising the model in a secure, scalable environment. SAS Viya pipelines can help automate data prep, model scoring, and monitoring to ensure sustained value in production."
   ]
  }
 ],
 "metadata": {
  "kernelspec": {
   "display_name": "R",
   "language": "R",
   "name": "ir"
  },
  "language_info": {
   "codemirror_mode": "r",
   "file_extension": ".r",
   "mimetype": "text/x-r-source",
   "name": "R",
   "pygments_lexer": "r",
   "version": "4.4.2"
  }
 },
 "nbformat": 4,
 "nbformat_minor": 5
}
